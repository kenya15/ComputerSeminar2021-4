{
 "cells": [
  {
   "cell_type": "markdown",
   "id": "acdf6f0e-fb2c-4da9-b23c-fb924dca000a",
   "metadata": {},
   "source": [
    "# 課題4-6"
   ]
  },
  {
   "cell_type": "markdown",
   "id": "2373a3a0-18e1-4539-beae-b5b5ec7d1254",
   "metadata": {},
   "source": [
    "ボストン市郊外の地域別住宅価格のデータを利用して，RM（平均部屋数）からPrice（住宅価格）を予測する単回帰モデルを作成して，精度を確認する．"
   ]
  },
  {
   "cell_type": "markdown",
   "id": "ef936823-e1c0-4cec-85b2-9ae4aff988fe",
   "metadata": {},
   "source": [
    "まず初めに，以下のコードを実行してボストン市郊外の地域別住宅価格のデータを変数bostonに代入する．"
   ]
  },
  {
   "cell_type": "code",
   "execution_count": null,
   "id": "430a3c4e-7377-4a58-8631-77d08190cca5",
   "metadata": {},
   "outputs": [],
   "source": [
    "import pandas as pd\n",
    "import numpy as np\n",
    "data_url = \"http://lib.stat.cmu.edu/datasets/boston\"\n",
    "raw_df = pd.read_csv(data_url, sep=\"\\s+\", skiprows=22, header=None)\n",
    "data = np.hstack([raw_df.values[::2, :], raw_df.values[1::2, :2]])\n",
    "target = raw_df.values[1::2, 2]"
   ]
  },
  {
   "cell_type": "markdown",
   "id": "ae9a1e47-dfbf-4033-a5c4-25441f93fbcb",
   "metadata": {},
   "source": [
    "次に，以下のコードを実行して，データフレームに保存する"
   ]
  },
  {
   "cell_type": "code",
   "execution_count": null,
   "id": "c58c8175-7534-42bf-a668-d9916842dba4",
   "metadata": {},
   "outputs": [],
   "source": [
    "boston_df = pd.DataFrame(data, columns = ['CRIM','ZN','INDUS','CHAS','NOX','RM','AGE','DIS','RAD','TAX','PTRATIO','B','LSTAT']) # 説明変数をDataFrameに保存\n",
    "boston_df['Price'] = target # 目的変数もDataFrameに追加"
   ]
  },
  {
   "cell_type": "markdown",
   "id": "034a4687-746b-461a-aa4b-e53eea4861d9",
   "metadata": {},
   "source": [
    "データの中身は以下のコードを実行することで確認できる．"
   ]
  },
  {
   "cell_type": "code",
   "execution_count": null,
   "id": "800c3a7d-c52e-456f-9935-7adb044804ab",
   "metadata": {},
   "outputs": [],
   "source": [
    "boston_df"
   ]
  },
  {
   "cell_type": "markdown",
   "id": "51ecea34-224c-42ca-827e-48fa1165b9b9",
   "metadata": {},
   "source": [
    "各変数（データ項目）の説明は以下の通りである．\n",
    "\n",
    "|変数|説明|\n",
    "|:----|:----|\n",
    "|CRIM|町ごとの一人当たりの犯罪率|\n",
    "|ZN|25,000平方フィート以上の土地における住宅地の割合|\n",
    "|INDUS|町ごとの非小売業の面積の割合|\n",
    "|CHAS|チャールズ川変数 (1: 川に面している, 0: それ以外)|\n",
    "|NOX|一酸化窒素濃度（1,000万分の1）|\n",
    "|RM|住居の平均部屋数|\n",
    "|AGE|1940年より前に建てられた物件割合|\n",
    "|DIS|5つのボストン市の雇用施設からの重み付き距離|\n",
    "|RAD|高速道路へのアクセス性を示す指標|\n",
    "|TAX|\\$10,000あたりの固定資産税の全額負担率|\n",
    "|PTRATIO| 町別の生徒と教師の比率|\n",
    "|B|黒人の比率 1000(Bk – 0.63)^2|\n",
    "|LSTAT|低所得者の割合|\n",
    "|Price|住宅価格の中央値(単位$1,000)|"
   ]
  },
  {
   "cell_type": "markdown",
   "id": "f54071e2-4cc6-4483-bc1a-646c1c7b63ab",
   "metadata": {},
   "source": [
    "## ここからが課題4-6"
   ]
  },
  {
   "cell_type": "code",
   "execution_count": null,
   "id": "fde9334a-56a2-459d-be4b-2c36bd9c3ffc",
   "metadata": {},
   "outputs": [],
   "source": [
    "X = boston_df[['RM']].values         # 説明変数\n",
    "Y = boston_df['Price'].values         # 目的変数"
   ]
  },
  {
   "cell_type": "markdown",
   "id": "85dc96cd-f55a-420c-9e63-f8a84f7b41b8",
   "metadata": {},
   "source": [
    "上記のデータを利用して，平均部屋数から住宅価格を予測する線形回帰モデルを作成してみよう．"
   ]
  },
  {
   "cell_type": "markdown",
   "id": "29436982-545b-4cf2-932a-1a807f8a9e20",
   "metadata": {},
   "source": [
    "## 課題の内容\n",
    "1. 平均部屋数と住宅価格の散布図をプロットする．\n",
    "2. 平均部屋数から住宅価格を予測する線形回帰モデルを作成し，作成したモデルの傾き，切片，決定係数を求める．\n",
    "3. 最後に散布図と線形回帰モデルの結果を同じ座標上に描画する．\n",
    "4. 早く終わった人は，全ての説明変数を使用して住宅価格を予測する重回帰モデルを作成してみる．(自分で調べてやってみる)\n",
    "\n",
    "以下の必要なライブラリを課題を始める前に実行しておく．"
   ]
  },
  {
   "cell_type": "code",
   "execution_count": null,
   "id": "d7f10e7b-18e0-486d-b9df-2399f6896b1f",
   "metadata": {},
   "outputs": [],
   "source": [
    "import matplotlib.pyplot as plt  # 作図用ライブラリ\n",
    "from sklearn import linear_model # 機械学習ライブラリの線形回帰モデル機能"
   ]
  },
  {
   "cell_type": "markdown",
   "id": "f633a220-fa49-4c34-8f6b-c28bf231ea5c",
   "metadata": {},
   "source": [
    "### 課題4-6 (1)"
   ]
  },
  {
   "cell_type": "code",
   "execution_count": null,
   "id": "7fc68d8e-8dc3-4147-ae78-4d7d49d34669",
   "metadata": {},
   "outputs": [],
   "source": []
  },
  {
   "cell_type": "markdown",
   "id": "d090a5fc-2400-4932-9980-10209f44b252",
   "metadata": {},
   "source": [
    "### 課題4-6 (2)"
   ]
  },
  {
   "cell_type": "code",
   "execution_count": null,
   "id": "5ff12464-d7fa-49e5-9b0f-0eb8dd761ac5",
   "metadata": {},
   "outputs": [],
   "source": []
  },
  {
   "cell_type": "markdown",
   "id": "a24ea440-f33d-474b-9e58-fc467c9301dd",
   "metadata": {},
   "source": [
    "### 課題4-6 (3)"
   ]
  },
  {
   "cell_type": "code",
   "execution_count": null,
   "id": "f91d1ebb-2bc8-456c-bddf-bf2c9fa16c7b",
   "metadata": {},
   "outputs": [],
   "source": []
  },
  {
   "cell_type": "markdown",
   "id": "0a36aad2-cd2c-4088-9819-640bc0a291f8",
   "metadata": {},
   "source": [
    "### 課題4-6 (4)\n",
    "以下のデータを使用して下さい．"
   ]
  },
  {
   "cell_type": "code",
   "execution_count": null,
   "id": "feed9d09-3d77-4621-9030-55493a23c56f",
   "metadata": {},
   "outputs": [],
   "source": [
    "X = data # 説明変数\n",
    "Y = target # 目的変数"
   ]
  },
  {
   "cell_type": "code",
   "execution_count": null,
   "id": "e646b089-a011-4374-8908-cfd6f81a4e21",
   "metadata": {},
   "outputs": [],
   "source": []
  }
 ],
 "metadata": {
  "kernelspec": {
   "display_name": "Python 3 (ipykernel)",
   "language": "python",
   "name": "python3"
  },
  "language_info": {
   "codemirror_mode": {
    "name": "ipython",
    "version": 3
   },
   "file_extension": ".py",
   "mimetype": "text/x-python",
   "name": "python",
   "nbconvert_exporter": "python",
   "pygments_lexer": "ipython3",
   "version": "3.9.7"
  }
 },
 "nbformat": 4,
 "nbformat_minor": 5
}
