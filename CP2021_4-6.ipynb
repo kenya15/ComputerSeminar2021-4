{
 "cells": [
  {
   "cell_type": "markdown",
   "id": "55cd6532-f7e9-41c1-9748-f2dedca4eda4",
   "metadata": {},
   "source": [
    "# 課題4-6"
   ]
  },
  {
   "cell_type": "markdown",
   "id": "6fadd565-aa1c-4c00-b717-e1b4ca942095",
   "metadata": {},
   "source": [
    "ボストン市郊外の地域別住宅価格のデータを利用して，RM（平均部屋数）からMEDV（住宅価格）を予測する単回帰モデルを作成して，精度を確認する．"
   ]
  },
  {
   "cell_type": "markdown",
   "id": "e3049cc6-2ebd-42e6-b27a-3274d57bcfe4",
   "metadata": {},
   "source": [
    "まず初めに，以下のコードを実行してボストン市郊外の地域別住宅価格のデータを変数bostonに代入する．"
   ]
  },
  {
   "cell_type": "code",
   "execution_count": null,
   "id": "2a561fe5-31ef-4c14-aa1b-9ce03a76bf5c",
   "metadata": {},
   "outputs": [],
   "source": [
    "from sklearn.datasets import load_boston\n",
    "boston = load_boston() # データセットの読み込み"
   ]
  },
  {
   "cell_type": "markdown",
   "id": "25e86980-70bd-48ca-b96f-661158bf18e2",
   "metadata": {},
   "source": [
    "次に，以下のコードを実行して，データフレームに保存する"
   ]
  },
  {
   "cell_type": "code",
   "execution_count": null,
   "id": "c63e6164-8591-43e6-9abf-679c44d6a945",
   "metadata": {},
   "outputs": [],
   "source": [
    "import pandas as pd\n",
    "boston_df = pd.DataFrame(boston.data, columns = boston.feature_names) # 説明変数(boston.data)をDataFrameに保存\n",
    "boston_df['MEDV'] = boston.target # 目的変数(boston.target)もDataFrameに追加"
   ]
  },
  {
   "cell_type": "markdown",
   "id": "1a0874bf-23f9-4b1b-9618-aa1a7b69a750",
   "metadata": {},
   "source": [
    "データの中身は以下のコードを実行することで確認できる．"
   ]
  },
  {
   "cell_type": "code",
   "execution_count": null,
   "id": "58003e2b-8876-4b39-8ef9-84a85c18bfc2",
   "metadata": {},
   "outputs": [],
   "source": [
    "boston_df"
   ]
  },
  {
   "cell_type": "markdown",
   "id": "72b887c5-c3f3-4036-a154-0cefbfa80a51",
   "metadata": {},
   "source": [
    "各変数（データ項目）の説明は以下の通りである．\n",
    "\n",
    "|変数|説明|\n",
    "|:----|:----|\n",
    "|CRIM|犯罪発生率|\n",
    "|ZN|25,000平方フィート以上の住宅区画の割合|\n",
    "|INDUS|非小売業種の土地面積の割合|\n",
    "|CHAS|チャールズ川沿いかを表すダミー変数|\n",
    "|NOX|窒素酸化物の濃度|\n",
    "|RM|平均部屋数|\n",
    "|AGE|1940年より前に建てられた建物の割合|\n",
    "|DIS|5つのボストンの雇用施設への重み付き距離|\n",
    "|RAD|高速道路へのアクセスのしやすさ|\n",
    "|TAX|10,000ドルあたりの不動産税率|\n",
    "|PTRATIO|生徒と教師の割合|\n",
    "|B|黒人の割合|\n",
    "|LSTAT|低所得者の割合|\n",
    "|MEDV|住宅価格の中央値（1,000単位）|\n"
   ]
  },
  {
   "cell_type": "markdown",
   "id": "a7c7f426-6264-4595-8076-b068ce6c4bbb",
   "metadata": {},
   "source": [
    "## ここからが課題4-6"
   ]
  },
  {
   "cell_type": "code",
   "execution_count": null,
   "id": "c55e4cee-b72f-4d18-a0c4-61b7e2afc68d",
   "metadata": {},
   "outputs": [],
   "source": [
    "X = boston_df[['RM']].values         # 説明変数\n",
    "Y = boston_df['MEDV'].values         # 目的変数"
   ]
  },
  {
   "cell_type": "markdown",
   "id": "39fe8e28-6893-4b02-a25c-fb00341d760c",
   "metadata": {},
   "source": [
    "上記のデータを利用して，平均部屋数から住宅価格を予測する線形回帰モデルを作成してみよう．"
   ]
  },
  {
   "cell_type": "markdown",
   "id": "13145275-886f-430c-b2c7-3ff5ac2c6f6f",
   "metadata": {},
   "source": [
    "### 課題の内容\n",
    "1. 平均部屋数と住宅価格の散布図をプロットする．\n",
    "2. 平均部屋数から住宅価格を予測する線形回帰モデルを作成する．\n",
    "3. 作成したモデルの傾き，切片，決定係数を求める．\n",
    "4. 最後に散布図と線形回帰モデルの結果を同じ座標上に描画する．\n",
    "5. 早く終わった人は，全ての説明変数を使用して住宅価格を予測する重回帰モデルを作成してみる．(自分で調べてやってみる)"
   ]
  },
  {
   "cell_type": "markdown",
   "id": "54e01ce8-bf28-4f6c-abeb-08a5c3a2f391",
   "metadata": {},
   "source": [
    "以下の必要なライブラリを課題を始める前に実行しておく．"
   ]
  },
  {
   "cell_type": "code",
   "execution_count": null,
   "id": "92d1079c-d80b-46c2-8d3b-73a2a78e514a",
   "metadata": {},
   "outputs": [],
   "source": [
    "import matplotlib.pyplot as plt  # 作図用ライブラリ\n",
    "from sklearn import linear_model # 機械学習ライブラリの線形回帰モデル機能\n",
    "import numpy as np # 数値計算ライブラリ"
   ]
  },
  {
   "cell_type": "markdown",
   "id": "4e3947f2-a860-450c-97a7-bdf076794d07",
   "metadata": {},
   "source": [
    "#### 課題4-6(1)"
   ]
  },
  {
   "cell_type": "code",
   "execution_count": null,
   "id": "be13a823-020e-4e3f-ba1f-926f8952ddbb",
   "metadata": {},
   "outputs": [],
   "source": []
  },
  {
   "cell_type": "markdown",
   "id": "ea9c3279-3754-402a-a779-14367cf0552e",
   "metadata": {},
   "source": [
    "#### 課題4-6(2)"
   ]
  },
  {
   "cell_type": "code",
   "execution_count": null,
   "id": "5fae983f-5b66-41f9-b15f-8366eb99dc3c",
   "metadata": {},
   "outputs": [],
   "source": []
  },
  {
   "cell_type": "markdown",
   "id": "5d704aa3-0d1c-44fc-9222-f5c57101af30",
   "metadata": {},
   "source": [
    "#### 課題4-6(3)"
   ]
  },
  {
   "cell_type": "code",
   "execution_count": null,
   "id": "4b701799-06ba-42e8-8837-80f8b057a732",
   "metadata": {},
   "outputs": [],
   "source": []
  },
  {
   "cell_type": "markdown",
   "id": "d542cc41-dcb7-4b6b-82f3-bfd0cdb2a92a",
   "metadata": {},
   "source": [
    "#### 課題4-6(4)"
   ]
  },
  {
   "cell_type": "code",
   "execution_count": null,
   "id": "acf09b33-9077-45a6-a96d-44a6d6c30f70",
   "metadata": {},
   "outputs": [],
   "source": []
  },
  {
   "cell_type": "markdown",
   "id": "f06ab017-1ecc-4f87-ac8d-be8a6c0f8b42",
   "metadata": {
    "tags": []
   },
   "source": [
    "#### 課題4-6(5)\n",
    "以下のデータを使用してください．"
   ]
  },
  {
   "cell_type": "code",
   "execution_count": null,
   "id": "d64e7837-51a6-4e0c-a0a9-e94c01eb934b",
   "metadata": {},
   "outputs": [],
   "source": [
    "X = boston.data # 説明変数\n",
    "Y = boston.target # 目的変数"
   ]
  },
  {
   "cell_type": "code",
   "execution_count": null,
   "id": "e3adaa3f-809b-4f93-a05a-3dd6a36d60e6",
   "metadata": {},
   "outputs": [],
   "source": []
  }
 ],
 "metadata": {
  "kernelspec": {
   "display_name": "Python 3 (ipykernel)",
   "language": "python",
   "name": "python3"
  },
  "language_info": {
   "codemirror_mode": {
    "name": "ipython",
    "version": 3
   },
   "file_extension": ".py",
   "mimetype": "text/x-python",
   "name": "python",
   "nbconvert_exporter": "python",
   "pygments_lexer": "ipython3",
   "version": "3.9.7"
  }
 },
 "nbformat": 4,
 "nbformat_minor": 5
}
